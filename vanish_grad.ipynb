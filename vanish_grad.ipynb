{
  "cells": [
    {
      "cell_type": "markdown",
      "metadata": {
        "id": "vrKubprkox5Q"
      },
      "source": [
        "<center>\n",
        "<p><img src=\"https://mcd.unison.mx/wp-content/themes/awaken/img/logo_mcd.png\" width=\"150\">\n",
        "</p>\n",
        "\n",
        "\n",
        "\n",
        "<h1>El problema del gradiente en las RNN vainilla</h1>\n",
        "\n",
        "<h3>Curso Aprendizaje Automático Aplicado</h3>\n",
        "\n",
        "\n",
        "<p> Julio Waissman Vilanova </p>\n",
        "\n",
        "\n",
        "<a target=\"_blank\" href=\"https://colab.research.google.com/github/mcd-unison/pln/blob/main/labs/RNN/vanish-grad.ipynb\"><img src=\"https://i.ibb.co/2P3SLwK/colab.png\"  style=\"padding-bottom:5px;\"  width=\"30\" /> Ejecuta en Colab</a>\n",
        "\n",
        "<p>\n",
        "Tomado de libretas la libreta <i>C3_W3_Lecture_Notebook_Vanishing_Gradients.ipynb</i> de la  <i>Especialización en procesamiento de lenguaje natural</i> de <i>Deeplearning.ai</i>, disponible en <i>Coursera</i>.\n",
        "</p>\n",
        "\n",
        "\n",
        "</center>"
      ]
    },
    {
      "cell_type": "markdown",
      "metadata": {
        "id": "KIIpjzOaox5R"
      },
      "source": []
    },
    {
      "cell_type": "markdown",
      "metadata": {
        "id": "z8BTH1-Gox5R"
      },
      "source": [
        "\n",
        "## Background\n",
        "Vanilla RNNs are prone to vanishing and exploding gradients when dealing with long sequences. Recall that the gradient with respect to $W_h$ is proportional to a sum of products:\n",
        "\n",
        "$$\\frac{\\delta L}{\\delta W_h} \\propto \\sum_{1\\le k\\le t} \\left(\\prod_{t\\ge i>k} \\frac{\\delta h_i}{\\delta h_{i-1}}\\right)\\frac{\\delta h_k}{\\delta W_h}$$\n",
        "\n",
        "where, for step $k$ far away from the place where the loss is computed ($t$), the product\n",
        "\n",
        "$$\\prod_{t\\ge i>k} \\frac{\\delta h_i}{\\delta h_{i-1}}$$\n",
        "\n",
        "can either go to 0 or infinity depending on the values of the partial derivative of the hidden state $\\frac{\\delta h_i}{\\delta h_{i-1}}$. In this ungraded lab, you will take a closer look at the partial derivative of the hidden state, and I'll show you how gradient problems arise when dealing with long sequences in vanilla RNNs.\n",
        "\n",
        "## Imports"
      ]
    },
    {
      "cell_type": "code",
      "execution_count": 1,
      "metadata": {
        "tags": [],
        "id": "1FOc5xbmox5R"
      },
      "outputs": [],
      "source": [
        "import numpy as np\n",
        "import matplotlib.pyplot as plt\n",
        "import ipywidgets as widgets\n",
        "from ipywidgets import interact, interactive, fixed, interact_manual\n",
        "\n",
        "%matplotlib inline"
      ]
    },
    {
      "cell_type": "markdown",
      "metadata": {
        "id": "tVu1Vqqfox5S"
      },
      "source": [
        "## Activations & Partial Derivative\n",
        "\n",
        "### Partial Derivative\n",
        "Recall that the hidden state at step $i$ is defined as:\n",
        "\n",
        "$$h_i= \\sigma(W_{hh} h_{i-1} + W_{hx} x_i + b_h)$$\n",
        "\n",
        "where $\\sigma$ is an activation function (usually sigmoid). So, you can use the chain rule to get the partial derivative:\n",
        "\n",
        "$$\\frac{\\delta h_i}{\\delta h_{i-1}} = W_{hh}^T \\text{diag} (\\sigma'(W_{hh} h_{i-1} + W_{hx} x_i + b_h))$$\n",
        "\n",
        "$W_h^T$ is the transpose of the weight matrix, and $\\sigma'$ is the gradient of the activation function. The gradient of the activation function is a vector of size equal to the hidden state size, and the $\\text{diag}$ converts that vector into a diagonal matrix. You <strong>don't have to worry about the calculus</strong> behind this derivative, and you only need to be familiar with the form it takes.  \n",
        "\n",
        "### Vanishing and Exploding Gradient Conditions\n",
        "\n",
        "When the product\n",
        "\n",
        "$$\\prod_{t\\ge i > k} \\frac{\\partial h_i}{\\partial h_{i-1}} = \\prod_{t\\ge i > k} W_{hh}^T \\text{diag} (\\sigma'(W_{hh} h_{i-1} + W_{hx} x_i + b_h))$$\n",
        "\n",
        "approaches 0, you face vanishing gradient problems where the contribution of item $k$ in the sequence is neglected. Conversely, when the product approaches infinity you will face exploding gradients and convergence problems arise. For that product approaching either of those values, two conditions need to be met:\n",
        "\n",
        "<ol>\n",
        "<li> Derivative of the activation function is bounded by some value $\\alpha$ </li>\n",
        "<li> The absolute value of the largest eigenvalue of the weight matrix $W_{hh}$ is lower than $\\frac{1}{\\alpha}$ (sufficient condition for vanishing gradient), or greater than $\\frac{1}{\\alpha}$ (necessary condition for exploding gradient).</li>\n",
        "</ol>\n",
        "\n",
        "### Activation\n",
        "\n",
        "So let's check the first condition for the sigmoid function. Run the cell below to get an interactive plot of the sigmoid function and its derivative at different points. Feel free to change the argument values to check if the derivative is bounded or not."
      ]
    },
    {
      "cell_type": "code",
      "execution_count": 2,
      "metadata": {
        "id": "ZdpQj2Usox5T",
        "outputId": "28f8424e-75e3-4674-ad7b-d8bc6b14d948",
        "colab": {
          "base_uri": "https://localhost:8080/",
          "height": 606,
          "referenced_widgets": [
            "4ec4f00b2b3c4bacae0f5cde8ceea22d",
            "f2fc61ee60884e7492c8e55886d8a46d",
            "eb18317fd2e24688930def3edf6ac6bb",
            "2c79bc2cbc07459ab5c41c0f948117ac",
            "d66ab01df6c54c8c9e7898f0652ed080",
            "558d1091c63b4f7dba327b96b8925413",
            "834ce3e57f234bf4aa4368731f741387"
          ]
        }
      },
      "outputs": [
        {
          "output_type": "display_data",
          "data": {
            "text/plain": [
              "interactive(children=(FloatSlider(value=0.0, description='x_tan', max=6.0, min=-6.0, step=0.5), Output()), _do…"
            ],
            "application/vnd.jupyter.widget-view+json": {
              "version_major": 2,
              "version_minor": 0,
              "model_id": "4ec4f00b2b3c4bacae0f5cde8ceea22d"
            }
          },
          "metadata": {}
        },
        {
          "output_type": "execute_result",
          "data": {
            "text/plain": [
              "<function __main__.plot_func(x_tan=0)>"
            ],
            "text/html": [
              "<div style=\"max-width:800px; border: 1px solid var(--colab-border-color);\"><style>\n",
              "      pre.function-repr-contents {\n",
              "        overflow-x: auto;\n",
              "        padding: 8px 12px;\n",
              "        max-height: 500px;\n",
              "      }\n",
              "\n",
              "      pre.function-repr-contents.function-repr-contents-collapsed {\n",
              "        cursor: pointer;\n",
              "        max-height: 100px;\n",
              "      }\n",
              "    </style>\n",
              "    <pre style=\"white-space: initial; background:\n",
              "         var(--colab-secondary-surface-color); padding: 8px 12px;\n",
              "         border-bottom: 1px solid var(--colab-border-color);\"><b>plot_func</b><br/>def plot_func(x_tan=0)</pre><pre class=\"function-repr-contents function-repr-contents-collapsed\" style=\"\"><a class=\"filepath\" style=\"display:none\" href=\"#\">/content/&lt;ipython-input-2-a381993ba595&gt;</a>&lt;no docstring&gt;</pre></div>"
            ]
          },
          "metadata": {},
          "execution_count": 2
        }
      ],
      "source": [
        "# Data\n",
        "\n",
        "### START CODE HERE ###\n",
        "x = np.linspace(-6, 6, 100)  # try changing the range of values in the data. eg: (-100,100,1000)\n",
        "### END CODE HERE ###\n",
        "# Activation\n",
        "# Interval [0, 1]\n",
        "def sigmoid(x):\n",
        "    return 1 / (1 + np.exp(-x))\n",
        "\n",
        "activations = sigmoid(x)\n",
        "\n",
        "# Gradient\n",
        "# Interval [0, 0.25]\n",
        "def sigmoid_gradient(x):\n",
        "    return sigmoid(x) * (1 - sigmoid(x))\n",
        "\n",
        "# Add the tangent line\n",
        "def plot_func(x_tan = 0):\n",
        "    plt.plot(x, activations)\n",
        "    plt.title(\"Sigmoid Function and Gradient\")\n",
        "    plt.xlabel(\"$x$\")\n",
        "    plt.ylabel(\"sigmoid($x$)\")\n",
        "    plt.text(x_tan, sigmoid(x_tan), f\"Gradient: {sigmoid_gradient(x_tan):.4f}\")\n",
        "    plt.xlim((-6,6))\n",
        "    plt.ylim((-0.5,1.5))\n",
        "    plt.rcParams['figure.figsize'] = [7, 5]\n",
        "    y_tan = sigmoid(x_tan)  # y value\n",
        "    span = 4 # line span along x axis\n",
        "    data_tan = np.linspace(x_tan - span, x_tan + span)  # x values to plot\n",
        "    gradient_tan = sigmoid_gradient(x_tan)     # gradient of the tangent\n",
        "    tan = y_tan + gradient_tan * (data_tan - x_tan)     # y values to plot\n",
        "    plt.plot(x_tan, y_tan, marker=\"o\", color=\"orange\", label=True)  # marker\n",
        "    plt.plot(data_tan, tan, linestyle=\"--\", color=\"orange\")         # line\n",
        "    plt.show()\n",
        "\n",
        "interact(plot_func, x_tan = widgets.FloatSlider(value=0,\n",
        "                                            min=-6,\n",
        "                                            max=6,\n",
        "                                            step=0.5))"
      ]
    },
    {
      "cell_type": "markdown",
      "metadata": {
        "id": "UyAq8LO5ox5T"
      },
      "source": [
        "As you checked, the derivative of the sigmoid function is bounded by $\\alpha=\\frac{1}{4}$. So vanishing gradient problems will arise for long-term components if the largest eigenvalue of $W_{hh}$ is lower than 4, and exploding gradient problems will happen if the largest eigenvalue is larger than 4."
      ]
    },
    {
      "cell_type": "markdown",
      "metadata": {
        "id": "hjE1rPhDox5U"
      },
      "source": [
        "## Vanishing Gradient with Sigmoid Activation"
      ]
    },
    {
      "cell_type": "markdown",
      "metadata": {
        "id": "2IG0XTRPox5U"
      },
      "source": [
        "Let's generate a random checkpoint for an RNN model and assume that the sequences are of length $t=20$:"
      ]
    },
    {
      "cell_type": "code",
      "execution_count": 3,
      "metadata": {
        "id": "0BQXD6dbox5U"
      },
      "outputs": [],
      "source": [
        "np.random.seed(12345)\n",
        "t = 20\n",
        "h = np.random.randn(5,t)\n",
        "x = np.random.randn(5,t)"
      ]
    },
    {
      "cell_type": "code",
      "execution_count": 4,
      "metadata": {
        "id": "9ok2YDi4ox5V"
      },
      "outputs": [],
      "source": [
        "b_h = np.random.randn(5,1)\n",
        "W_hx = np.random.randn(5,5)"
      ]
    },
    {
      "cell_type": "markdown",
      "metadata": {
        "id": "-JOfDLMOox5V"
      },
      "source": [
        "In the next cell, you will create a random matrix $W_{hh}$ with eigenvalues lower than four."
      ]
    },
    {
      "cell_type": "code",
      "execution_count": 5,
      "metadata": {
        "id": "uFqLyVXyox5V"
      },
      "outputs": [],
      "source": [
        "eig = np.random.rand(5) * 4 #Random eigenvalues lower than 4\n",
        "Q = np.random.randn(5,5) #Random eigenvectors stacked in matrix Q\n",
        "W_hh = Q @ np.diag(eig) @ np.linalg.inv(Q) #W_hh"
      ]
    },
    {
      "cell_type": "markdown",
      "metadata": {
        "id": "eMtKkm9Fox5W"
      },
      "source": [
        "Finally, let us define the product function for a determined step $k$."
      ]
    },
    {
      "cell_type": "code",
      "execution_count": 6,
      "metadata": {
        "id": "m14civjdox5W"
      },
      "outputs": [],
      "source": [
        "def prod(k):\n",
        "    p = 1\n",
        "    for i in range(t-1, k-2, -1):\n",
        "        p *= W_hh.T @ np.diag(sigmoid_gradient(W_hh@h[:,i] + W_hx@x[:,i] + b_h))\n",
        "    return p"
      ]
    },
    {
      "cell_type": "markdown",
      "metadata": {
        "id": "4FObhaqNox5X"
      },
      "source": [
        "Now, you can plot the contribution to the gradient for different steps $k$."
      ]
    },
    {
      "cell_type": "code",
      "execution_count": 7,
      "metadata": {
        "id": "qxRjXcw2ox5X",
        "outputId": "52f8c73b-90d4-4d95-9bc4-228ff43bee26",
        "colab": {
          "base_uri": "https://localhost:8080/",
          "height": 489
        }
      },
      "outputs": [
        {
          "output_type": "display_data",
          "data": {
            "text/plain": [
              "<Figure size 700x500 with 1 Axes>"
            ],
            "image/png": "[encoded data removed]"
          },
          "metadata": {}
        }
      ],
      "source": [
        "product = np.zeros(20)\n",
        "for k in range(t):\n",
        "    product[k] = np.max(prod(k+1))\n",
        "\n",
        "plt.plot(np.array(range(t))+1, product)\n",
        "plt.title(\"Maximum contribution to the gradient at step $k$\");\n",
        "plt.xlabel(\"k\");\n",
        "plt.ylabel(\"Maximum contribution\");\n",
        "plt.xticks(np.array(range(t))+1);"
      ]
    },
    {
      "cell_type": "markdown",
      "metadata": {
        "id": "tAy56aREox5X"
      },
      "source": [
        "With the largest eigenvalue of the weight matrix $W_{hh}$ being lower than 4 --with a sigmoid activation function, the contribution of the early items in the sequence to the gradient go to zero. In practice, this will make your RNN rely only upon the most recent items in the series."
      ]
    },
    {
      "cell_type": "markdown",
      "metadata": {
        "id": "Bd8IHSrzox5X"
      },
      "source": [
        "## Exploding Gradient with Sigmoid Activation"
      ]
    },
    {
      "cell_type": "markdown",
      "metadata": {
        "id": "L4pDpB7eox5X"
      },
      "source": [
        "An essential difference with the vanishing gradient problem is that the condition for exploding gradients is necessary but not sufficient. Therefore, it is very likely that you will face vanishing gradients rather than exploding gradient problems. However, let's fabricate an example for exploding gradients."
      ]
    },
    {
      "cell_type": "code",
      "execution_count": 8,
      "metadata": {
        "id": "PbdOV0toox5Y"
      },
      "outputs": [],
      "source": [
        "np.random.seed(12345)\n",
        "t = 20\n",
        "h = np.zeros((5,t))\n",
        "x = np.zeros((5,t))"
      ]
    },
    {
      "cell_type": "code",
      "execution_count": 9,
      "metadata": {
        "id": "C1RSKwN4ox5Y"
      },
      "outputs": [],
      "source": [
        "b_h = np.zeros((5,1))\n",
        "W_hx = np.random.randn(5,5)"
      ]
    },
    {
      "cell_type": "markdown",
      "metadata": {
        "id": "PWxRspWlox5Y"
      },
      "source": [
        "In the next cell, a random matrix $W_{hh}$ with eigenvalues greater than 4 is created"
      ]
    },
    {
      "cell_type": "code",
      "execution_count": 10,
      "metadata": {
        "id": "o5sw3w24ox5Y"
      },
      "outputs": [],
      "source": [
        "eig = 4 + np.random.rand(5)*10 #Random eigenvalues greater than 4\n",
        "Q = np.random.randn(5,5) #Random eigenvectors stacked in matrix Q\n",
        "W_hh = Q@np.diag(eig)@np.linalg.inv(Q) #W_hh"
      ]
    },
    {
      "cell_type": "markdown",
      "metadata": {
        "id": "rArMhyHzox5Y"
      },
      "source": [
        "Now, you can plot the contribution to the gradient for different steps $k$."
      ]
    },
    {
      "cell_type": "code",
      "execution_count": 11,
      "metadata": {
        "id": "Kajy2tFWox5Z",
        "outputId": "89019d85-5692-4702-a1a1-a26cb4cbc634",
        "colab": {
          "base_uri": "https://localhost:8080/",
          "height": 489
        }
      },
      "outputs": [
        {
          "output_type": "display_data",
          "data": {
            "text/plain": [
              "<Figure size 700x500 with 1 Axes>"
            ],
            "image/png": "[encoded data removed]"
          },
          "metadata": {}
        }
      ],
      "source": [
        "product = np.zeros(20)\n",
        "for k in range(t):\n",
        "    product[k] = np.max(prod(k+1))\n",
        "\n",
        "plt.plot(np.array(range(t))+1, product)\n",
        "plt.title(\"Maximum contribution to the gradient at step $k$\");\n",
        "plt.xlabel(\"k\");\n",
        "plt.ylabel(\"Maximum contribution\");\n",
        "plt.xticks(np.array(range(t))+1);"
      ]
    },
    {
      "cell_type": "markdown",
      "metadata": {
        "id": "AOUad4j0ox5Z"
      },
      "source": [
        "With the largest eigenvalue of the weight matrix $W_{hh}$ being greater than 4 --with a sigmoid activation function, the contribution of the early items in the sequence to the gradient goes to infinity. In practice, this will make you face convergence problems during training."
      ]
    },
    {
      "cell_type": "markdown",
      "metadata": {
        "id": "dj7y1-epox5Z"
      },
      "source": [
        "Now you are more familiar with the conditions for vanishing and exploding gradient problems. You should take away that for vanishing gradient it is <strong>sufficient</strong> to satisfy an eigenvalue condition, while for the exploding gradient problem it is <strong>neccesary</strong> but not enough. I used the weight matrix $W_{hh}$ in this discussion, but everything exposed here also applies for $W_{hx}$."
      ]
    },
    {
      "cell_type": "markdown",
      "metadata": {
        "id": "q5b5L0lqox5Z"
      },
      "source": [
        "## Solution\n",
        "One solution is to use RNN architectures specially designed to avoid these problems (like GRUs and LSTMs). Other solutions involve skip-connections or gradient clipping. But those are both discussions for another time."
      ]
    }
  ],
  "metadata": {
    "kernelspec": {
      "display_name": "Python 3",
      "language": "python",
      "name": "python3"
    },
    "language_info": {
      "codemirror_mode": {
        "name": "ipython",
        "version": 3
      },
      "file_extension": ".py",
      "mimetype": "text/x-python",
      "name": "python",
      "nbconvert_exporter": "python",
      "pygments_lexer": "ipython3",
      "version": "3.8.13"
    },
    "colab": {
      "provenance": []
    },
    "widgets": {
      "application/vnd.jupyter.widget-state+json": {
        "4ec4f00b2b3c4bacae0f5cde8ceea22d": {
          "model_module": "@jupyter-widgets/controls",
          "model_name": "VBoxModel",
          "model_module_version": "1.5.0",
          "state": {
            "_dom_classes": [
              "widget-interact"
            ],
            "_model_module": "@jupyter-widgets/controls",
            "_model_module_version": "1.5.0",
            "_model_name": "VBoxModel",
            "_view_count": null,
            "_view_module": "@jupyter-widgets/controls",
            "_view_module_version": "1.5.0",
            "_view_name": "VBoxView",
            "box_style": "",
            "children": [
              "IPY_MODEL_f2fc61ee60884e7492c8e55886d8a46d",
              "IPY_MODEL_eb18317fd2e24688930def3edf6ac6bb"
            ],
            "layout": "IPY_MODEL_2c79bc2cbc07459ab5c41c0f948117ac"
          }
        },
        "f2fc61ee60884e7492c8e55886d8a46d": {
          "model_module": "@jupyter-widgets/controls",
          "model_name": "FloatSliderModel",
          "model_module_version": "1.5.0",
          "state": {
            "_dom_classes": [],
            "_model_module": "@jupyter-widgets/controls",
            "_model_module_version": "1.5.0",
            "_model_name": "FloatSliderModel",
            "_view_count": null,
            "_view_module": "@jupyter-widgets/controls",
            "_view_module_version": "1.5.0",
            "_view_name": "FloatSliderView",
            "continuous_update": true,
            "description": "x_tan",
            "description_tooltip": null,
            "disabled": false,
            "layout": "IPY_MODEL_d66ab01df6c54c8c9e7898f0652ed080",
            "max": 6,
            "min": -6,
            "orientation": "horizontal",
            "readout": true,
            "readout_format": ".2f",
            "step": 0.5,
            "style": "IPY_MODEL_558d1091c63b4f7dba327b96b8925413",
            "value": 3.5
          }
        },
        "eb18317fd2e24688930def3edf6ac6bb": {
          "model_module": "@jupyter-widgets/output",
          "model_name": "OutputModel",
          "model_module_version": "1.0.0",
          "state": {
            "_dom_classes": [],
            "_model_module": "@jupyter-widgets/output",
            "_model_module_version": "1.0.0",
            "_model_name": "OutputModel",
            "_view_count": null,
            "_view_module": "@jupyter-widgets/output",
            "_view_module_version": "1.0.0",
            "_view_name": "OutputView",
            "layout": "IPY_MODEL_834ce3e57f234bf4aa4368731f741387",
            "msg_id": "",
            "outputs": [
              {
                "output_type": "display_data",
                "data": {
                  "text/plain": "<Figure size 700x500 with 1 Axes>",
                  "image/png": "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\n"
                },
                "metadata": {}
              }
            ]
          }
        },
        "2c79bc2cbc07459ab5c41c0f948117ac": {
          "model_module": "@jupyter-widgets/base",
          "model_name": "LayoutModel",
          "model_module_version": "1.2.0",
          "state": {
            "_model_module": "@jupyter-widgets/base",
            "_model_module_version": "1.2.0",
            "_model_name": "LayoutModel",
            "_view_count": null,
            "_view_module": "@jupyter-widgets/base",
            "_view_module_version": "1.2.0",
            "_view_name": "LayoutView",
            "align_content": null,
            "align_items": null,
            "align_self": null,
            "border": null,
            "bottom": null,
            "display": null,
            "flex": null,
            "flex_flow": null,
            "grid_area": null,
            "grid_auto_columns": null,
            "grid_auto_flow": null,
            "grid_auto_rows": null,
            "grid_column": null,
            "grid_gap": null,
            "grid_row": null,
            "grid_template_areas": null,
            "grid_template_columns": null,
            "grid_template_rows": null,
            "height": null,
            "justify_content": null,
            "justify_items": null,
            "left": null,
            "margin": null,
            "max_height": null,
            "max_width": null,
            "min_height": null,
            "min_width": null,
            "object_fit": null,
            "object_position": null,
            "order": null,
            "overflow": null,
            "overflow_x": null,
            "overflow_y": null,
            "padding": null,
            "right": null,
            "top": null,
            "visibility": null,
            "width": null
          }
        },
        "d66ab01df6c54c8c9e7898f0652ed080": {
          "model_module": "@jupyter-widgets/base",
          "model_name": "LayoutModel",
          "model_module_version": "1.2.0",
          "state": {
            "_model_module": "@jupyter-widgets/base",
            "_model_module_version": "1.2.0",
            "_model_name": "LayoutModel",
            "_view_count": null,
            "_view_module": "@jupyter-widgets/base",
            "_view_module_version": "1.2.0",
            "_view_name": "LayoutView",
            "align_content": null,
            "align_items": null,
            "align_self": null,
            "border": null,
            "bottom": null,
            "display": null,
            "flex": null,
            "flex_flow": null,
            "grid_area": null,
            "grid_auto_columns": null,
            "grid_auto_flow": null,
            "grid_auto_rows": null,
            "grid_column": null,
            "grid_gap": null,
            "grid_row": null,
            "grid_template_areas": null,
            "grid_template_columns": null,
            "grid_template_rows": null,
            "height": null,
            "justify_content": null,
            "justify_items": null,
            "left": null,
            "margin": null,
            "max_height": null,
            "max_width": null,
            "min_height": null,
            "min_width": null,
            "object_fit": null,
            "object_position": null,
            "order": null,
            "overflow": null,
            "overflow_x": null,
            "overflow_y": null,
            "padding": null,
            "right": null,
            "top": null,
            "visibility": null,
            "width": null
          }
        },
        "558d1091c63b4f7dba327b96b8925413": {
          "model_module": "@jupyter-widgets/controls",
          "model_name": "SliderStyleModel",
          "model_module_version": "1.5.0",
          "state": {
            "_model_module": "@jupyter-widgets/controls",
            "_model_module_version": "1.5.0",
            "_model_name": "SliderStyleModel",
            "_view_count": null,
            "_view_module": "@jupyter-widgets/base",
            "_view_module_version": "1.2.0",
            "_view_name": "StyleView",
            "description_width": "",
            "handle_color": null
          }
        },
        "834ce3e57f234bf4aa4368731f741387": {
          "model_module": "@jupyter-widgets/base",
          "model_name": "LayoutModel",
          "model_module_version": "1.2.0",
          "state": {
            "_model_module": "@jupyter-widgets/base",
            "_model_module_version": "1.2.0",
            "_model_name": "LayoutModel",
            "_view_count": null,
            "_view_module": "@jupyter-widgets/base",
            "_view_module_version": "1.2.0",
            "_view_name": "LayoutView",
            "align_content": null,
            "align_items": null,
            "align_self": null,
            "border": null,
            "bottom": null,
            "display": null,
            "flex": null,
            "flex_flow": null,
            "grid_area": null,
            "grid_auto_columns": null,
            "grid_auto_flow": null,
            "grid_auto_rows": null,
            "grid_column": null,
            "grid_gap": null,
            "grid_row": null,
            "grid_template_areas": null,
            "grid_template_columns": null,
            "grid_template_rows": null,
            "height": null,
            "justify_content": null,
            "justify_items": null,
            "left": null,
            "margin": null,
            "max_height": null,
            "max_width": null,
            "min_height": null,
            "min_width": null,
            "object_fit": null,
            "object_position": null,
            "order": null,
            "overflow": null,
            "overflow_x": null,
            "overflow_y": null,
            "padding": null,
            "right": null,
            "top": null,
            "visibility": null,
            "width": null
          }
        }
      }
    }
  },
  "nbformat": 4,
  "nbformat_minor": 0
}